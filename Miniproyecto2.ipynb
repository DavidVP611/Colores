{
  "nbformat": 4,
  "nbformat_minor": 0,
  "metadata": {
    "colab": {
      "provenance": [],
      "include_colab_link": true
    },
    "kernelspec": {
      "name": "ir",
      "display_name": "R"
    },
    "language_info": {
      "name": "R"
    }
  },
  "cells": [
    {
      "cell_type": "markdown",
      "metadata": {
        "id": "view-in-github",
        "colab_type": "text"
      },
      "source": [
        "<a href=\"https://colab.research.google.com/github/dventep/Colores/blob/main/Miniproyecto2.ipynb\" target=\"_parent\"><img src=\"https://colab.research.google.com/assets/colab-badge.svg\" alt=\"Open In Colab\"/></a>"
      ]
    },
    {
      "cell_type": "markdown",
      "source": [
        "# **Objetivo:**\n",
        "Realizar un análisis multivariado de las características extraidas de datos EEG entre\n",
        "pacientes con la enfermedad de Parkinson y grupo control (HC) que permita encontrar\n",
        "tendencias a partir de nuevas variables (componentes principales).\n",
        "\n",
        "Pasos sugeridos\n",
        "- [1] Realice un analisis exploratorio de datos de las caracterısticas por grupo (HC y PD),\n",
        "edad, genero y zona del cerebro. Para esto se puede ayudar en la lectura de los artıculos\n",
        "Reliability Of Quantitative EEG Features y Spectral features of restingstate EEG in\n",
        "Parkinsons Disease: A multicenter study using functional data analysis.\n",
        "- [2] Realice un analisis de componentes principales a partir de la matriz de correlaciones.\n",
        "Asigne un nombre a cada componente seleccionado.\n",
        "- [3] Construya un ındice e interprete de acuerdo al contexto del problema y evalue diferencias\n",
        "estadısticas entre los pacientes sanos y pacientes con Parkinson."
      ],
      "metadata": {
        "id": "GYMvXYCwYgW6"
      }
    },
    {
      "cell_type": "markdown",
      "source": [
        "## Entendimiento de los datos\n"
      ],
      "metadata": {
        "id": "4wx_qar5eeYc"
      }
    },
    {
      "cell_type": "code",
      "source": [
        "install.packages(\"corrplot\")\n",
        "install.packages(\"factoextra\")"
      ],
      "metadata": {
        "colab": {
          "base_uri": "https://localhost:8080/"
        },
        "id": "oCwgk6WAhXB9",
        "outputId": "71a45ff6-c15c-4f8c-ea52-d1c9083c8936"
      },
      "execution_count": null,
      "outputs": [
        {
          "output_type": "stream",
          "name": "stderr",
          "text": [
            "Installing package into ‘/usr/local/lib/R/site-library’\n",
            "(as ‘lib’ is unspecified)\n",
            "\n",
            "Installing package into ‘/usr/local/lib/R/site-library’\n",
            "(as ‘lib’ is unspecified)\n",
            "\n"
          ]
        }
      ]
    },
    {
      "cell_type": "code",
      "source": [
        "install.packages(\"ggplot2\")\n",
        "install.packages(\"tidyverse\")"
      ],
      "metadata": {
        "colab": {
          "base_uri": "https://localhost:8080/"
        },
        "id": "I8tLJji7xJ9l",
        "outputId": "f6e2ebb1-e783-401d-ddf0-ae0ae8207d82"
      },
      "execution_count": null,
      "outputs": [
        {
          "output_type": "stream",
          "name": "stderr",
          "text": [
            "Installing package into ‘/usr/local/lib/R/site-library’\n",
            "(as ‘lib’ is unspecified)\n",
            "\n",
            "Installing package into ‘/usr/local/lib/R/site-library’\n",
            "(as ‘lib’ is unspecified)\n",
            "\n",
            "also installing the dependencies ‘DBI’, ‘glue’, ‘gargle’, ‘googledrive’, ‘curl’, ‘timechange’, ‘systemfonts’, ‘textshaping’, ‘vroom’, ‘broom’, ‘conflicted’, ‘dbplyr’, ‘dtplyr’, ‘forcats’, ‘googlesheets4’, ‘haven’, ‘hms’, ‘httr’, ‘jsonlite’, ‘lubridate’, ‘magrittr’, ‘modelr’, ‘ragg’, ‘readr’, ‘readxl’, ‘reprex’, ‘rstudioapi’, ‘rvest’\n",
            "\n",
            "\n",
            "Warning message in install.packages(\"tidyverse\"):\n",
            "“installation of package ‘textshaping’ had non-zero exit status”\n",
            "Warning message in install.packages(\"tidyverse\"):\n",
            "“installation of package ‘ragg’ had non-zero exit status”\n",
            "Warning message in install.packages(\"tidyverse\"):\n",
            "“installation of package ‘tidyverse’ had non-zero exit status”\n"
          ]
        }
      ]
    },
    {
      "cell_type": "code",
      "execution_count": null,
      "metadata": {
        "id": "ZwyHAF4dWNrD",
        "colab": {
          "base_uri": "https://localhost:8080/",
          "height": 457
        },
        "outputId": "a96e531a-ff3a-49b3-8765-c9954589a658"
      },
      "outputs": [
        {
          "output_type": "error",
          "ename": "ERROR",
          "evalue": "Error: package or namespace load failed for ‘tidyverse’ in loadNamespace(i, c(lib.loc, .libPaths()), versionCheck = vI[[i]]):\n namespace ‘rlang’ 1.0.1 is already loaded, but >= 1.1.0 is required\n",
          "traceback": [
            "Error: package or namespace load failed for ‘tidyverse’ in loadNamespace(i, c(lib.loc, .libPaths()), versionCheck = vI[[i]]):\n namespace ‘rlang’ 1.0.1 is already loaded, but >= 1.1.0 is required\nTraceback:\n",
            "1. library(tidyverse)",
            "2. tryCatch({\n .     attr(package, \"LibPath\") <- which.lib.loc\n .     ns <- loadNamespace(package, lib.loc)\n .     env <- attachNamespace(ns, pos = pos, deps, exclude, include.only)\n . }, error = function(e) {\n .     P <- if (!is.null(cc <- conditionCall(e))) \n .         paste(\" in\", deparse(cc)[1L])\n .     else \"\"\n .     msg <- gettextf(\"package or namespace load failed for %s%s:\\n %s\", \n .         sQuote(package), P, conditionMessage(e))\n .     if (logical.return && !quietly) \n .         message(paste(\"Error:\", msg), domain = NA)\n .     else stop(msg, call. = FALSE, domain = NA)\n . })",
            "3. tryCatchList(expr, classes, parentenv, handlers)",
            "4. tryCatchOne(expr, names, parentenv, handlers[[1L]])",
            "5. value[[3L]](cond)",
            "6. stop(msg, call. = FALSE, domain = NA)"
          ]
        }
      ],
      "source": [
        "library(tidyverse)\n",
        "library(corrplot)\n",
        "library(factoextra)\n",
        "library(ggplot2)\n",
        "\n",
        "participants <- read.delim(\"participants_iowa.tsv\")\n",
        "spectral_data <- read.csv(\"spectral_iowa_5s_no_overlapping.csv\")\n",
        "\n",
        "spectral_data <- as.data.frame(spectral_data)\n",
        "participants <- as.data.frame(participants)"
      ]
    },
    {
      "cell_type": "code",
      "source": [
        "participants <- read.delim(\"participants_iowa.tsv\")\n",
        "spectral_data <- read.csv(\"spectral_iowa_5s_no_overlapping.csv\")\n",
        "\n",
        "spectral_data <- as.data.frame(spectral_data)\n",
        "participants <- as.data.frame(participants)"
      ],
      "metadata": {
        "id": "BqJJzngYWncv"
      },
      "execution_count": null,
      "outputs": []
    },
    {
      "cell_type": "code",
      "source": [
        "head(participants)"
      ],
      "metadata": {
        "id": "X1r3f-BLY9H2",
        "colab": {
          "base_uri": "https://localhost:8080/",
          "height": 286
        },
        "outputId": "37ceeb50-0082-4e6b-9bdd-855eb2844395"
      },
      "execution_count": null,
      "outputs": [
        {
          "output_type": "display_data",
          "data": {
            "text/html": [
              "<table class=\"dataframe\">\n",
              "<caption>A data.frame: 6 × 7</caption>\n",
              "<thead>\n",
              "\t<tr><th></th><th scope=col>participant_id</th><th scope=col>gender</th><th scope=col>age</th><th scope=col>group</th><th scope=col>moca_total</th><th scope=col>monthssincepddiagnosis</th><th scope=col>updrsiii</th></tr>\n",
              "\t<tr><th></th><th scope=col>&lt;chr&gt;</th><th scope=col>&lt;chr&gt;</th><th scope=col>&lt;int&gt;</th><th scope=col>&lt;chr&gt;</th><th scope=col>&lt;int&gt;</th><th scope=col>&lt;chr&gt;</th><th scope=col>&lt;chr&gt;</th></tr>\n",
              "</thead>\n",
              "<tbody>\n",
              "\t<tr><th scope=row>1</th><td>sub-001</td><td>m</td><td>80</td><td>hc</td><td>26</td><td>n/a</td><td>n/a</td></tr>\n",
              "\t<tr><th scope=row>2</th><td>sub-002</td><td>f</td><td>71</td><td>hc</td><td>27</td><td>n/a</td><td>n/a</td></tr>\n",
              "\t<tr><th scope=row>3</th><td>sub-003</td><td>f</td><td>66</td><td>hc</td><td>29</td><td>n/a</td><td>n/a</td></tr>\n",
              "\t<tr><th scope=row>4</th><td>sub-004</td><td>f</td><td>77</td><td>hc</td><td>24</td><td>n/a</td><td>n/a</td></tr>\n",
              "\t<tr><th scope=row>5</th><td>sub-005</td><td>f</td><td>70</td><td>hc</td><td>27</td><td>n/a</td><td>n/a</td></tr>\n",
              "\t<tr><th scope=row>6</th><td>sub-006</td><td>m</td><td>70</td><td>hc</td><td>26</td><td>n/a</td><td>n/a</td></tr>\n",
              "</tbody>\n",
              "</table>\n"
            ],
            "text/markdown": "\nA data.frame: 6 × 7\n\n| <!--/--> | participant_id &lt;chr&gt; | gender &lt;chr&gt; | age &lt;int&gt; | group &lt;chr&gt; | moca_total &lt;int&gt; | monthssincepddiagnosis &lt;chr&gt; | updrsiii &lt;chr&gt; |\n|---|---|---|---|---|---|---|---|\n| 1 | sub-001 | m | 80 | hc | 26 | n/a | n/a |\n| 2 | sub-002 | f | 71 | hc | 27 | n/a | n/a |\n| 3 | sub-003 | f | 66 | hc | 29 | n/a | n/a |\n| 4 | sub-004 | f | 77 | hc | 24 | n/a | n/a |\n| 5 | sub-005 | f | 70 | hc | 27 | n/a | n/a |\n| 6 | sub-006 | m | 70 | hc | 26 | n/a | n/a |\n\n",
            "text/latex": "A data.frame: 6 × 7\n\\begin{tabular}{r|lllllll}\n  & participant\\_id & gender & age & group & moca\\_total & monthssincepddiagnosis & updrsiii\\\\\n  & <chr> & <chr> & <int> & <chr> & <int> & <chr> & <chr>\\\\\n\\hline\n\t1 & sub-001 & m & 80 & hc & 26 & n/a & n/a\\\\\n\t2 & sub-002 & f & 71 & hc & 27 & n/a & n/a\\\\\n\t3 & sub-003 & f & 66 & hc & 29 & n/a & n/a\\\\\n\t4 & sub-004 & f & 77 & hc & 24 & n/a & n/a\\\\\n\t5 & sub-005 & f & 70 & hc & 27 & n/a & n/a\\\\\n\t6 & sub-006 & m & 70 & hc & 26 & n/a & n/a\\\\\n\\end{tabular}\n",
            "text/plain": [
              "  participant_id gender age group moca_total monthssincepddiagnosis updrsiii\n",
              "1 sub-001        m      80  hc    26         n/a                    n/a     \n",
              "2 sub-002        f      71  hc    27         n/a                    n/a     \n",
              "3 sub-003        f      66  hc    29         n/a                    n/a     \n",
              "4 sub-004        f      77  hc    24         n/a                    n/a     \n",
              "5 sub-005        f      70  hc    27         n/a                    n/a     \n",
              "6 sub-006        m      70  hc    26         n/a                    n/a     "
            ]
          },
          "metadata": {}
        }
      ]
    },
    {
      "cell_type": "code",
      "source": [
        "head(spectral_data)"
      ],
      "metadata": {
        "id": "BZtf9HhSY_DR",
        "colab": {
          "base_uri": "https://localhost:8080/",
          "height": 286
        },
        "outputId": "c60e7e2d-0378-473e-fd2a-e2dd95660f59"
      },
      "execution_count": null,
      "outputs": [
        {
          "output_type": "display_data",
          "data": {
            "text/html": [
              "<table class=\"dataframe\">\n",
              "<caption>A data.frame: 6 × 10</caption>\n",
              "<thead>\n",
              "\t<tr><th></th><th scope=col>center</th><th scope=col>subject</th><th scope=col>channel</th><th scope=col>epoch</th><th scope=col>delta</th><th scope=col>theta</th><th scope=col>alpha</th><th scope=col>beta</th><th scope=col>pre_alpha</th><th scope=col>alpha_theta</th></tr>\n",
              "\t<tr><th></th><th scope=col>&lt;chr&gt;</th><th scope=col>&lt;int&gt;</th><th scope=col>&lt;chr&gt;</th><th scope=col>&lt;int&gt;</th><th scope=col>&lt;dbl&gt;</th><th scope=col>&lt;dbl&gt;</th><th scope=col>&lt;dbl&gt;</th><th scope=col>&lt;dbl&gt;</th><th scope=col>&lt;dbl&gt;</th><th scope=col>&lt;dbl&gt;</th></tr>\n",
              "</thead>\n",
              "<tbody>\n",
              "\t<tr><th scope=row>1</th><td>iowa</td><td>1</td><td>T8</td><td>0</td><td>0.1104380</td><td>0.1662443</td><td>0.2404580</td><td>0.4615473</td><td>0.08824029</td><td>1.446413</td></tr>\n",
              "\t<tr><th scope=row>2</th><td>iowa</td><td>1</td><td>T8</td><td>1</td><td>0.1927284</td><td>0.1439532</td><td>0.3242262</td><td>0.2990525</td><td>0.08890638</td><td>2.252302</td></tr>\n",
              "\t<tr><th scope=row>3</th><td>iowa</td><td>1</td><td>T8</td><td>2</td><td>0.1049955</td><td>0.2019264</td><td>0.3888227</td><td>0.2478770</td><td>0.14101515</td><td>1.925567</td></tr>\n",
              "\t<tr><th scope=row>4</th><td>iowa</td><td>1</td><td>T8</td><td>3</td><td>0.1947045</td><td>0.1314483</td><td>0.2990830</td><td>0.3184113</td><td>0.08742499</td><td>2.275290</td></tr>\n",
              "\t<tr><th scope=row>5</th><td>iowa</td><td>1</td><td>T8</td><td>4</td><td>0.1432521</td><td>0.1230925</td><td>0.3786663</td><td>0.3192093</td><td>0.05810283</td><td>3.076274</td></tr>\n",
              "\t<tr><th scope=row>6</th><td>iowa</td><td>1</td><td>T8</td><td>5</td><td>0.1023931</td><td>0.2627448</td><td>0.2308680</td><td>0.3693304</td><td>0.14806455</td><td>0.878678</td></tr>\n",
              "</tbody>\n",
              "</table>\n"
            ],
            "text/markdown": "\nA data.frame: 6 × 10\n\n| <!--/--> | center &lt;chr&gt; | subject &lt;int&gt; | channel &lt;chr&gt; | epoch &lt;int&gt; | delta &lt;dbl&gt; | theta &lt;dbl&gt; | alpha &lt;dbl&gt; | beta &lt;dbl&gt; | pre_alpha &lt;dbl&gt; | alpha_theta &lt;dbl&gt; |\n|---|---|---|---|---|---|---|---|---|---|---|\n| 1 | iowa | 1 | T8 | 0 | 0.1104380 | 0.1662443 | 0.2404580 | 0.4615473 | 0.08824029 | 1.446413 |\n| 2 | iowa | 1 | T8 | 1 | 0.1927284 | 0.1439532 | 0.3242262 | 0.2990525 | 0.08890638 | 2.252302 |\n| 3 | iowa | 1 | T8 | 2 | 0.1049955 | 0.2019264 | 0.3888227 | 0.2478770 | 0.14101515 | 1.925567 |\n| 4 | iowa | 1 | T8 | 3 | 0.1947045 | 0.1314483 | 0.2990830 | 0.3184113 | 0.08742499 | 2.275290 |\n| 5 | iowa | 1 | T8 | 4 | 0.1432521 | 0.1230925 | 0.3786663 | 0.3192093 | 0.05810283 | 3.076274 |\n| 6 | iowa | 1 | T8 | 5 | 0.1023931 | 0.2627448 | 0.2308680 | 0.3693304 | 0.14806455 | 0.878678 |\n\n",
            "text/latex": "A data.frame: 6 × 10\n\\begin{tabular}{r|llllllllll}\n  & center & subject & channel & epoch & delta & theta & alpha & beta & pre\\_alpha & alpha\\_theta\\\\\n  & <chr> & <int> & <chr> & <int> & <dbl> & <dbl> & <dbl> & <dbl> & <dbl> & <dbl>\\\\\n\\hline\n\t1 & iowa & 1 & T8 & 0 & 0.1104380 & 0.1662443 & 0.2404580 & 0.4615473 & 0.08824029 & 1.446413\\\\\n\t2 & iowa & 1 & T8 & 1 & 0.1927284 & 0.1439532 & 0.3242262 & 0.2990525 & 0.08890638 & 2.252302\\\\\n\t3 & iowa & 1 & T8 & 2 & 0.1049955 & 0.2019264 & 0.3888227 & 0.2478770 & 0.14101515 & 1.925567\\\\\n\t4 & iowa & 1 & T8 & 3 & 0.1947045 & 0.1314483 & 0.2990830 & 0.3184113 & 0.08742499 & 2.275290\\\\\n\t5 & iowa & 1 & T8 & 4 & 0.1432521 & 0.1230925 & 0.3786663 & 0.3192093 & 0.05810283 & 3.076274\\\\\n\t6 & iowa & 1 & T8 & 5 & 0.1023931 & 0.2627448 & 0.2308680 & 0.3693304 & 0.14806455 & 0.878678\\\\\n\\end{tabular}\n",
            "text/plain": [
              "  center subject channel epoch delta     theta     alpha     beta     \n",
              "1 iowa   1       T8      0     0.1104380 0.1662443 0.2404580 0.4615473\n",
              "2 iowa   1       T8      1     0.1927284 0.1439532 0.3242262 0.2990525\n",
              "3 iowa   1       T8      2     0.1049955 0.2019264 0.3888227 0.2478770\n",
              "4 iowa   1       T8      3     0.1947045 0.1314483 0.2990830 0.3184113\n",
              "5 iowa   1       T8      4     0.1432521 0.1230925 0.3786663 0.3192093\n",
              "6 iowa   1       T8      5     0.1023931 0.2627448 0.2308680 0.3693304\n",
              "  pre_alpha  alpha_theta\n",
              "1 0.08824029 1.446413   \n",
              "2 0.08890638 2.252302   \n",
              "3 0.14101515 1.925567   \n",
              "4 0.08742499 2.275290   \n",
              "5 0.05810283 3.076274   \n",
              "6 0.14806455 0.878678   "
            ]
          },
          "metadata": {}
        }
      ]
    },
    {
      "cell_type": "markdown",
      "source": [
        "### Resumenes"
      ],
      "metadata": {
        "id": "Ib7K-AwGelIA"
      }
    },
    {
      "cell_type": "code",
      "source": [
        "summary(participants)"
      ],
      "metadata": {
        "id": "XZCLJ2whdzJ0",
        "colab": {
          "base_uri": "https://localhost:8080/",
          "height": 273
        },
        "outputId": "c067ce7d-e9f6-4a23-9fb0-6123aaabc2d3"
      },
      "execution_count": null,
      "outputs": [
        {
          "output_type": "display_data",
          "data": {
            "text/plain": [
              " participant_id        gender               age          group          \n",
              " Length:28          Length:28          Min.   :54.0   Length:28         \n",
              " Class :character   Class :character   1st Qu.:66.0   Class :character  \n",
              " Mode  :character   Mode  :character   Median :70.0   Mode  :character  \n",
              "                                       Mean   :70.5                     \n",
              "                                       3rd Qu.:77.0                     \n",
              "                                       Max.   :86.0                     \n",
              "   moca_total    monthssincepddiagnosis   updrsiii        \n",
              " Min.   :19.00   Length:28              Length:28         \n",
              " 1st Qu.:26.00   Class :character       Class :character  \n",
              " Median :27.00   Mode  :character       Mode  :character  \n",
              " Mean   :26.57                                            \n",
              " 3rd Qu.:28.00                                            \n",
              " Max.   :30.00                                            "
            ]
          },
          "metadata": {}
        }
      ]
    },
    {
      "cell_type": "code",
      "source": [
        "summary(spectral_data)"
      ],
      "metadata": {
        "id": "VfhWjWprea8g",
        "colab": {
          "base_uri": "https://localhost:8080/",
          "height": 401
        },
        "outputId": "793126dd-256e-4b4f-c7a8-2e53dabd1927"
      },
      "execution_count": null,
      "outputs": [
        {
          "output_type": "display_data",
          "data": {
            "text/plain": [
              "    center             subject        channel              epoch      \n",
              " Length:53361       Min.   : 1.00   Length:53361       Min.   : 0.00  \n",
              " Class :character   1st Qu.: 6.00   Class :character   1st Qu.: 7.00  \n",
              " Mode  :character   Median :14.00   Mode  :character   Median :15.00  \n",
              "                    Mean   :13.39                      Mean   :17.04  \n",
              "                    3rd Qu.:19.00                      3rd Qu.:24.00  \n",
              "                    Max.   :28.00                      Max.   :56.00  \n",
              "     delta              theta              alpha               beta         \n",
              " Min.   :0.003998   Min.   :0.009541   Min.   :0.007456   Min.   :0.008783  \n",
              " 1st Qu.:0.078554   1st Qu.:0.142802   1st Qu.:0.172641   1st Qu.:0.121518  \n",
              " Median :0.129492   Median :0.212250   Median :0.250926   Median :0.231875  \n",
              " Mean   :0.153816   Mean   :0.274610   Mean   :0.269096   Mean   :0.245712  \n",
              " 3rd Qu.:0.205778   3rd Qu.:0.365550   3rd Qu.:0.346345   3rd Qu.:0.348562  \n",
              " Max.   :0.655537   Max.   :0.893909   Max.   :0.895537   Max.   :0.889906  \n",
              "   pre_alpha         alpha_theta      \n",
              " Min.   :0.005979   Min.   : 0.02704  \n",
              " 1st Qu.:0.085103   1st Qu.: 0.59826  \n",
              " Median :0.129968   Median : 1.17328  \n",
              " Mean   :0.191113   Mean   : 1.55337  \n",
              " 3rd Qu.:0.250865   3rd Qu.: 2.05326  \n",
              " Max.   :0.850153   Max.   :25.13691  "
            ]
          },
          "metadata": {}
        }
      ]
    },
    {
      "cell_type": "markdown",
      "source": [
        "### Valores Faltantes\n"
      ],
      "metadata": {
        "id": "ANocB5Mse1c_"
      }
    },
    {
      "cell_type": "code",
      "source": [
        "sum(is.na(participants))"
      ],
      "metadata": {
        "id": "ht-3VTK6ewlg",
        "colab": {
          "base_uri": "https://localhost:8080/",
          "height": 34
        },
        "outputId": "3607a38c-3525-42a7-80f8-24a441c37588"
      },
      "execution_count": null,
      "outputs": [
        {
          "output_type": "display_data",
          "data": {
            "text/html": [
              "0"
            ],
            "text/markdown": "0",
            "text/latex": "0",
            "text/plain": [
              "[1] 0"
            ]
          },
          "metadata": {}
        }
      ]
    },
    {
      "cell_type": "code",
      "source": [
        "sum(is.na(spectral_data))"
      ],
      "metadata": {
        "id": "nPXzffIcfAjH",
        "colab": {
          "base_uri": "https://localhost:8080/",
          "height": 34
        },
        "outputId": "fd6b58ad-7866-4e89-90b2-e299451b4e7b"
      },
      "execution_count": null,
      "outputs": [
        {
          "output_type": "display_data",
          "data": {
            "text/html": [
              "0"
            ],
            "text/markdown": "0",
            "text/latex": "0",
            "text/plain": [
              "[1] 0"
            ]
          },
          "metadata": {}
        }
      ]
    },
    {
      "cell_type": "markdown",
      "source": [
        "Inicialmente pareciera que no contamos con valores nulos, sin embargo, a revisar con mayor detalle la composicion de los datos podemos observar que el dataframe de participants cuenta con valores nulos que estan representados como 'n/a' lo que hace que no sean tomados por la funciona is.na()"
      ],
      "metadata": {
        "id": "q5DDH9dCxcRq"
      }
    },
    {
      "cell_type": "code",
      "source": [
        "#Convertir \"n/a\" a NA en todo el dataframe\n",
        "participants[participants == \"n/a\"] <- NA\n",
        "\n",
        "# Calcular la proporción de valores faltantes por columna\n",
        "valores_faltantes_por_columna <- colSums(is.na(participants))\n",
        "proporcion_faltantes_por_columna <- valores_faltantes_por_columna / nrow(participants)\n",
        "\n",
        "#Realizamos un plot para ver la proporcion de una mejor forma:\n",
        "df_proporcion <- data.frame(Columna = names(proporcion_faltantes_por_columna),\n",
        "                            Proporcion_faltantes = proporcion_faltantes_por_columna)\n",
        "\n",
        "ggplot(df_proporcion, aes(x = Proporcion_faltantes, y = Columna)) +\n",
        "  geom_bar(stat = \"identity\", fill = \"blue\") +\n",
        "  labs(title = \"Proporción de Valores Faltantes por Columna\",\n",
        "       x = \"Proporción de Valores Faltantes\",\n",
        "       y = \"Columna\") +\n",
        "  theme(axis.text.x = element_text(angle = 90, vjust = 0.5, hjust=1))"
      ],
      "metadata": {
        "id": "b2PUil1GxtOF"
      },
      "execution_count": null,
      "outputs": []
    },
    {
      "cell_type": "markdown",
      "source": [
        "Como podemos observar en este caso, las columnas 'monthssincepddiagnosis' y 'updrsiii' tienen ambas el 50% de sus datos como valores faltantes...\n"
      ],
      "metadata": {
        "id": "TK7xUhxc08yS"
      }
    },
    {
      "cell_type": "markdown",
      "source": [
        "### Tipos de datos"
      ],
      "metadata": {
        "id": "1KAmXJu0fHlN"
      }
    },
    {
      "cell_type": "code",
      "source": [
        "str(participants)"
      ],
      "metadata": {
        "id": "A8NxBjVOfIpn"
      },
      "execution_count": null,
      "outputs": []
    },
    {
      "cell_type": "code",
      "source": [
        "str(spectral_data)"
      ],
      "metadata": {
        "id": "cqDkMRB-fKKM"
      },
      "execution_count": null,
      "outputs": []
    },
    {
      "cell_type": "markdown",
      "source": [
        "### Graficos\n"
      ],
      "metadata": {
        "id": "O7wiQCIxfbZi"
      }
    },
    {
      "cell_type": "markdown",
      "source": [
        "Datos atipicos\n"
      ],
      "metadata": {
        "id": "zdOTz7abhAKh"
      }
    },
    {
      "cell_type": "code",
      "source": [
        "# Seleccionamos unicamente las columnas que estan relacionadas con frecuencias de ondas\n",
        "columnas_deseadas <- c(\"delta\", \"theta\", \"alpha\", \"beta\", \"pre_alpha\", \"alpha_theta\")\n",
        "\n",
        "# Configuramos el grafico para que contenga 2 filas y 3 columnas\n",
        "num_filas <- ceiling(length(columnas_deseadas) / 3)\n",
        "num_columnas <- 3\n",
        "par(mfrow = c(num_filas, num_columnas))\n",
        "\n",
        "# Crear un boxplot para cada variable\n",
        "for (columna in columnas_deseadas) {\n",
        "  boxplot(spectral_data[[columna]],\n",
        "          main = paste(\"Boxplot of\", columna),\n",
        "          col = \"lightgray\",\n",
        "          border = \"black\",\n",
        "          xlab = \"Bandas de Frecuencia\",\n",
        "          ylab = \"Potencia\")\n",
        "}\n"
      ],
      "metadata": {
        "id": "UWEO_DP-zHa6"
      },
      "execution_count": null,
      "outputs": []
    },
    {
      "cell_type": "markdown",
      "source": [
        "Histogramas para variables numéricas"
      ],
      "metadata": {
        "id": "JAPXcjk3g-Gz"
      }
    },
    {
      "cell_type": "code",
      "source": [
        "spectral_data %>%\n",
        "  pivot_longer(cols = delta:alpha_theta, names_to = \"Frequency Band\", values_to = \"Power\") %>%\n",
        "  ggplot(aes(x = Power)) +\n",
        "  geom_histogram(bins = 30, fill = \"skyblue\", color = \"black\") +\n",
        "  facet_wrap(~`Frequency Band`, scales = 'free_x') +\n",
        "  theme_minimal() +\n",
        "  labs(x = NULL, y = \"Frecuencia\", title = \"Distribución de Potencias en Bandas de Frecuencia EEG\")"
      ],
      "metadata": {
        "id": "DVpbLefifQvv"
      },
      "execution_count": null,
      "outputs": []
    },
    {
      "cell_type": "markdown",
      "source": [
        "Gráficos de barras para variables categóricas en 'participants'"
      ],
      "metadata": {
        "id": "_qkUQqO9ggiS"
      }
    },
    {
      "cell_type": "code",
      "source": [
        "# Este grafico no apora mucho\n",
        "participants %>%\n",
        "  select(-c(participant_id)) %>%\n",
        "  gather() %>%\n",
        "  ggplot(aes(value)) +\n",
        "  geom_bar(fill = \"tomato\", color = \"black\") +\n",
        "  facet_wrap(~key, scales = 'free') +\n",
        "  theme_minimal() +\n",
        "  labs(x = NULL, y = \"Conteo\", title = \"Distribución de Variables de Participantes\")"
      ],
      "metadata": {
        "id": "ZIZ_KdRygcvE"
      },
      "execution_count": null,
      "outputs": []
    },
    {
      "cell_type": "code",
      "source": [
        "correlations <- cor(spectral_data_selected)\n",
        "\n",
        "corrplot(correlations, method = \"circle\")"
      ],
      "metadata": {
        "id": "uaBkn_Aoh_7A"
      },
      "execution_count": null,
      "outputs": []
    },
    {
      "cell_type": "markdown",
      "source": [
        "Hacemos las modificaciones necesarias para poder hacer el merge y realizar el PCA"
      ],
      "metadata": {
        "id": "_7RFTZdbrL7v"
      }
    },
    {
      "cell_type": "code",
      "source": [
        "# Ajustamos la columna participant_id para quitar los caracteres \"sub-\"\n",
        "participants$participant_id <- gsub(\"sub-\", \"\", participants$participant_id)\n",
        "\n",
        "# Modificamos la columna subject del dataframe spectral_data para que la columna subject tengo al menos 3 digitos\n",
        "spectral_data$subject <- sprintf(\"%03d\", as.integer(spectral_data$subject))"
      ],
      "metadata": {
        "id": "O7-yCKE9nLRw"
      },
      "execution_count": null,
      "outputs": []
    },
    {
      "cell_type": "code",
      "source": [
        "# Unir 'participants' y 'spectral_data' por el identificador común.\n",
        "combined_data <- merge(spectral_data, participants, by.x = \"subject\", by.y = \"participant_id\")"
      ],
      "metadata": {
        "id": "1sNGa10XrVAe"
      },
      "execution_count": null,
      "outputs": []
    },
    {
      "cell_type": "code",
      "source": [
        "head(combined_data, 5)"
      ],
      "metadata": {
        "id": "Hd8LgUhIlpU2"
      },
      "execution_count": null,
      "outputs": []
    },
    {
      "cell_type": "markdown",
      "source": [
        "#### Ahora que el merge esta hecho, exploremos un poco los datos"
      ],
      "metadata": {
        "id": "b9gPUxxH5HhF"
      }
    },
    {
      "cell_type": "markdown",
      "source": [
        "Proporcion de las categorias para la variable group"
      ],
      "metadata": {
        "id": "_J9YQI605cPm"
      }
    },
    {
      "cell_type": "code",
      "source": [
        "# Calcular la frecuencia de cada categoría en la columna \"group\"\n",
        "frecuencia_group <- table(combined_data$group)\n",
        "# Calcular los porcentajes\n",
        "porcentaje_group <- prop.table(frecuencia_group) * 100\n",
        "\n",
        "# Se configura el grafico\n",
        "colores <- c(\"#4682b4\", \"#f8766d\")\n",
        "pie(porcentaje_group,\n",
        "    main = \"Distribución de Grupos\",\n",
        "    labels = paste(names(porcentaje_group), \": \", round(porcentaje_group, 2), \"%\"),\n",
        "    col = colores)\n",
        "\n",
        "# Se crea la legenda para tener un interpretacion mas clara\n",
        "legend(\"topright\", legend = c(\"Grupo de control\", \"Pacientes con Parkinson\"), fill = colores)\n"
      ],
      "metadata": {
        "id": "AGuP5sIj5ON-"
      },
      "execution_count": null,
      "outputs": []
    },
    {
      "cell_type": "markdown",
      "source": [
        "Ahora veamos la proporcion de generos que tenemos para cada grupo"
      ],
      "metadata": {
        "id": "rjKhXTM29IHi"
      }
    },
    {
      "cell_type": "code",
      "source": [
        "# Crear el gráfico de dispersión\n",
        "ggplot(combined_data, aes(x = age, color = group)) +\n",
        "  geom_point() +\n",
        "  labs(title = \"Distribución de Edades por Grupo\",\n",
        "       x = \"Edad\",\n",
        "       color = \"Grupo\") +\n",
        "  theme_minimal() +\n",
        "  theme(legend.position = \"top\")\n"
      ],
      "metadata": {
        "id": "DY3JlRXt5hNR"
      },
      "execution_count": null,
      "outputs": []
    },
    {
      "cell_type": "markdown",
      "source": [
        "Scatter plot entre Delta y Theta"
      ],
      "metadata": {
        "id": "XN5eMH_i-5RY"
      }
    },
    {
      "cell_type": "code",
      "source": [
        "ggplot(combined_data, aes(x = delta, y = theta, color = group)) +\n",
        "  geom_point() +\n",
        "  labs(title = \"Distribución de Delta vs Theta por Grupo\",\n",
        "       x = \"Delta\",\n",
        "       y = \"Theta\",\n",
        "       color = \"Grupo\") +\n",
        "  theme_minimal() +\n",
        "  theme(legend.position = \"top\")\n"
      ],
      "metadata": {
        "id": "UQTpt3rO9OOv"
      },
      "execution_count": null,
      "outputs": []
    },
    {
      "cell_type": "markdown",
      "source": [
        "Scatter Plot entre 'Alpha' y 'Beta'"
      ],
      "metadata": {
        "id": "QEcH1erK-8cw"
      }
    },
    {
      "cell_type": "code",
      "source": [
        "ggplot(combined_data, aes(x = alpha, y = beta, color = group)) +\n",
        "  geom_point() +\n",
        "  labs(title = \"Distribución de Alpha vs Beta por Grupo\",\n",
        "       x = \"Alpha\",\n",
        "       y = \"Beta\",\n",
        "       color = \"Grupo\") +\n",
        "  theme_minimal() +\n",
        "  theme(legend.position = \"top\")"
      ],
      "metadata": {
        "id": "1FcslWGL_DMf"
      },
      "execution_count": null,
      "outputs": []
    },
    {
      "cell_type": "markdown",
      "source": [
        "## PCA Analysis\n"
      ],
      "metadata": {
        "id": "SH9xCjTu_TIN"
      }
    },
    {
      "cell_type": "code",
      "source": [
        "# Realizar PCA en el conjunto de datos combinado.\n",
        "# Seleccionar solo las columnas relacioandas con frecuencias de ondas para PCA.\n",
        "numeric_columns <- c(\"delta\", \"theta\", \"alpha\", \"beta\", \"pre_alpha\", \"alpha_theta\")\n",
        "pca_result <- prcomp(combined_data[numeric_columns], center = TRUE, scale. = TRUE)"
      ],
      "metadata": {
        "id": "6PakSwq-tfr-"
      },
      "execution_count": null,
      "outputs": []
    },
    {
      "cell_type": "code",
      "source": [
        "summary(pca_result)"
      ],
      "metadata": {
        "id": "Yju7sKlrtdOV"
      },
      "execution_count": null,
      "outputs": []
    },
    {
      "cell_type": "code",
      "source": [
        "fviz_eig(pca_result)"
      ],
      "metadata": {
        "id": "-niTHgamtk8v"
      },
      "execution_count": null,
      "outputs": []
    },
    {
      "cell_type": "code",
      "source": [
        "fviz_pca_biplot(pca_result, label = \"var\", habillage = combined_data$group, addEllipses = TRUE)"
      ],
      "metadata": {
        "id": "8RnPUkyUs9IE"
      },
      "execution_count": null,
      "outputs": []
    },
    {
      "cell_type": "markdown",
      "source": [
        "Ahora realizamos el PCA agregando la variables 'age'"
      ],
      "metadata": {
        "id": "xFhyYOx_sy2e"
      }
    },
    {
      "cell_type": "code",
      "source": [
        "numeric_columns <- c(\"age\", \"delta\", \"theta\", \"alpha\", \"beta\", \"pre_alpha\", \"alpha_theta\")\n",
        "pca_result <- prcomp(combined_data[numeric_columns], center = TRUE, scale. = TRUE)"
      ],
      "metadata": {
        "id": "5o8QZ9eruCuV"
      },
      "execution_count": null,
      "outputs": []
    },
    {
      "cell_type": "code",
      "source": [
        "summary(pca_result)"
      ],
      "metadata": {
        "id": "1eORHUMVuEZl"
      },
      "execution_count": null,
      "outputs": []
    },
    {
      "cell_type": "code",
      "source": [
        "fviz_eig(pca_result)"
      ],
      "metadata": {
        "id": "3xYhWMPEuFyQ"
      },
      "execution_count": null,
      "outputs": []
    },
    {
      "cell_type": "code",
      "source": [
        "fviz_pca_biplot(pca_result, label = \"var\", habillage = combined_data$group, addEllipses = TRUE)"
      ],
      "metadata": {
        "id": "5eY25o0inQnB"
      },
      "execution_count": null,
      "outputs": []
    }
  ]
}